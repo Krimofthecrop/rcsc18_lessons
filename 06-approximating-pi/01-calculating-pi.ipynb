{
 "cells": [
  {
   "cell_type": "markdown",
   "metadata": {},
   "source": [
    "# Monte Carlo approximation of pi"
   ]
  },
  {
   "cell_type": "markdown",
   "metadata": {},
   "source": [
    "In this session you will be practicing a number of things you've learned over the last two days and seeing how you can combine those seemingly distinct concepts to solve a problem. First let's discuss the problem we intend to solve.\n",
    "\n",
    "Suppose we need to calculate the value of $\\pi$ (it's readily available in several libraries, but let's assume for the purposes of this excercise that you need to calculate it anyway). The approach we'll use for this is called a [Monte Carlo method](https://en.wikipedia.org/wiki/Monte_Carlo_method). For those unfamiliar with the term, Monte Carlo methods are a way to approximate values using random numbers which have some particular statistical properties relevant to the problem at hand.\n",
    "\n",
    "This method consists of the following steps:\n",
    "- Consider a unit square (x = [0, 1], y = [0, 1]) containing a quarter of a unit circle ($r = 1$)\n",
    "- Randomly select a point within the square\n",
    "- Determine whether the selected point is within the circle\n",
    "- As you select more points, the ratio of the number of points within the circle to the total number of points will converge towards $\\pi / 4$, so \n",
    "\n",
    "    $$\n",
    "    \\pi = 4 \\frac{\\text{number of points in circle}}{\\text{total number of points}}\n",
    "    $$\n",
    "\n",
    "\n",
    "![](https://upload.wikimedia.org/wikipedia/commons/thumb/8/84/Pi_30K.gif/220px-Pi_30K.gif)"
   ]
  },
  {
   "cell_type": "markdown",
   "metadata": {},
   "source": [
    "\n",
    "<section class=\"challenge panel panel-success\">\n",
    "<div class=\"panel-heading\">\n",
    "<h2><span class=\"fa fa-pencil\"></span> Challenge</h2>\n",
    "</div>\n",
    "\n",
    "\n",
    "<div class=\"panel-body\">\n",
    "\n",
    "<ol>\n",
    "<li>Here in the notebook, write a function that implements the algorithm described above and returns a value for $\\pi$<ul>\n",
    "<li>If it helps you to conceptualise the problem, loop over the number of points you want to use and do your calculations on each iteration</li>\n",
    "<li>Once you're happy with that, refactor your function so that it uses numpy operations and considers all the points at once, instead of looping over them</li>\n",
    "</ul>\n",
    "</li>\n",
    "</ol>\n",
    "\n",
    "</div>\n",
    "\n",
    "</section>\n"
   ]
  },
  {
   "cell_type": "code",
   "execution_count": 36,
   "metadata": {},
   "outputs": [
    {
     "name": "stdout",
     "output_type": "stream",
     "text": [
      "3.141876\n"
     ]
    }
   ],
   "source": [
    "import numpy as np\n",
    "\n",
    "tot_num = 1000000 #total number of test points points\n",
    "\n",
    "def find_y_on_circle(x):\n",
    "    \n",
    "        y = np.sqrt(1 - x**2) #circle equation\n",
    "        return y\n",
    "    \n",
    "def est_pi(tot_num):\n",
    "    \"\"\"\n",
    "    This function will estimate pi using the Monte Carlo method in a unit circle.\n",
    "    \"\"\"\n",
    "\n",
    "    inside = 0 \n",
    "    res = 0 #counter for test points\n",
    "\n",
    "    while res < tot_num:\n",
    "        x = np.random.uniform(0,1)\n",
    "        y = np.random.uniform(0,1)\n",
    "        if find_y_on_circle(x) >= y: #inside the circle\n",
    "            inside += 1\n",
    "        res += 1\n",
    "\n",
    "    return 4*inside/tot_num #prints pi estimate\n",
    "print(est_pi(tot_num))"
   ]
  },
  {
   "cell_type": "markdown",
   "metadata": {},
   "source": [
    "\n",
    "<section class=\"challenge panel panel-success\">\n",
    "<div class=\"panel-heading\">\n",
    "<h2><span class=\"fa fa-pencil\"></span> Challenge</h2>\n",
    "</div>\n",
    "\n",
    "\n",
    "<div class=\"panel-body\">\n",
    "\n",
    "<ol>\n",
    "<li>\n",
    "<p>Outside the notebook, in whatever text editor you're most comfortable using, make a Python script containing your $\\pi$-calculation function, and save it in the same directory as this notebook. Import that function into the notebook and test it a bit. Make sure it still gives the correct answer and that you're happy using it as an imported function.</p>\n",
    "</li>\n",
    "<li>\n",
    "<p>Write some tests for your function, in a separate test script. Run your tests and make sure that your function is definitely doing what you expect it to be doing.</p>\n",
    "</li>\n",
    "</ol>\n",
    "\n",
    "</div>\n",
    "\n",
    "</section>\n"
   ]
  },
  {
   "cell_type": "code",
   "execution_count": 37,
   "metadata": {},
   "outputs": [
    {
     "ename": "NameError",
     "evalue": "name 'tot_num' is not defined",
     "output_type": "error",
     "traceback": [
      "\u001b[1;31m---------------------------------------------------------------------------\u001b[0m",
      "\u001b[1;31mNameError\u001b[0m                                 Traceback (most recent call last)",
      "\u001b[1;32m<ipython-input-37-3dd47f29ebf0>\u001b[0m in \u001b[0;36m<module>\u001b[1;34m()\u001b[0m\n\u001b[1;32m----> 1\u001b[1;33m \u001b[1;32mimport\u001b[0m \u001b[0mpiscript\u001b[0m\u001b[1;33m\u001b[0m\u001b[0m\n\u001b[0m",
      "\u001b[1;32m~\\rcsc18_lessons\\06-approximating-pi\\piscript.py\u001b[0m in \u001b[0;36m<module>\u001b[1;34m()\u001b[0m\n\u001b[0;32m     24\u001b[0m \u001b[1;33m\u001b[0m\u001b[0m\n\u001b[0;32m     25\u001b[0m     \u001b[1;32mreturn\u001b[0m \u001b[1;36m4\u001b[0m\u001b[1;33m*\u001b[0m\u001b[0minside\u001b[0m\u001b[1;33m/\u001b[0m\u001b[0mtot_num\u001b[0m \u001b[1;31m#prints pi estimate\u001b[0m\u001b[1;33m\u001b[0m\u001b[0m\n\u001b[1;32m---> 26\u001b[1;33m \u001b[0mprint\u001b[0m\u001b[1;33m(\u001b[0m\u001b[0mest_pi\u001b[0m\u001b[1;33m(\u001b[0m\u001b[0mtot_num\u001b[0m\u001b[1;33m)\u001b[0m\u001b[1;33m)\u001b[0m\u001b[1;33m\u001b[0m\u001b[0m\n\u001b[0m",
      "\u001b[1;31mNameError\u001b[0m: name 'tot_num' is not defined"
     ]
    }
   ],
   "source": [
    "import piscript"
   ]
  },
  {
   "cell_type": "markdown",
   "metadata": {},
   "source": [
    "\n",
    "<section class=\"challenge panel panel-success\">\n",
    "<div class=\"panel-heading\">\n",
    "<h2><span class=\"fa fa-pencil\"></span> Challenge</h2>\n",
    "</div>\n",
    "\n",
    "\n",
    "<div class=\"panel-body\">\n",
    "\n",
    "<ol>\n",
    "<li>In your script, make a plot like the one above showing the random coordinates used in your calculation and the answer those points produce.</li>\n",
    "<li>Try running your function with different numbers of iterations and making a plot to compare the different results this gives you.</li>\n",
    "</ol>\n",
    "\n",
    "</div>\n",
    "\n",
    "</section>\n"
   ]
  },
  {
   "cell_type": "markdown",
   "metadata": {},
   "source": [
    "\n",
    "<section class=\"challenge panel panel-success\">\n",
    "<div class=\"panel-heading\">\n",
    "<h2><span class=\"fa fa-pencil\"></span> </h2>\n",
    "</div>\n",
    "\n",
    "\n",
    "<div class=\"panel-body\">\n",
    "\n",
    "<p>If you get through all of the above tasks before the end of the session and want an additional challenge, try making an animated version of the plot above, which changes while the answer is being calculated and updates both the points and the title. We haven't covered how to make animations, so you'll have to look up how to do this using the matplotlib documentation other online resources, and ask one of the instructors if you get stuck.</p>\n",
    "\n",
    "</div>\n",
    "\n",
    "</section>\n"
   ]
  }
 ],
 "metadata": {
  "kernelspec": {
   "display_name": "Python 3",
   "language": "python",
   "name": "python3"
  },
  "language_info": {
   "codemirror_mode": {
    "name": "ipython",
    "version": 3
   },
   "file_extension": ".py",
   "mimetype": "text/x-python",
   "name": "python",
   "nbconvert_exporter": "python",
   "pygments_lexer": "ipython3",
   "version": "3.6.6"
  }
 },
 "nbformat": 4,
 "nbformat_minor": 2
}
